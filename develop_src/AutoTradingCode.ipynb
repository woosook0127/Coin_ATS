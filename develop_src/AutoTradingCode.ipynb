{
 "cells": [
  {
   "cell_type": "code",
   "execution_count": 20,
   "id": "c5d235df",
   "metadata": {},
   "outputs": [],
   "source": [
    "import time\n",
    "import pyupbit\n",
    "import datetime"
   ]
  },
  {
   "cell_type": "code",
   "execution_count": 21,
   "id": "68aa1355",
   "metadata": {},
   "outputs": [],
   "source": [
    "access = \"xTgB4NarGyQ1hYbkFRtMGVJhskdVTsw0mRlzdyES\"\n",
    "secret = \"1xk3iwoQgqyCO7uQ1ZE9Ce0fyAFrFm0w3FOUDNOr\""
   ]
  },
  {
   "cell_type": "code",
   "execution_count": 22,
   "id": "d30358d9",
   "metadata": {},
   "outputs": [],
   "source": [
    "# 매수 목표가 조회 - 변동성 돌파 전략\n",
    "def get_target_price(coin_type, k):  \n",
    "    df = pyupbit.get_ohlcv(coin_type, interval=\"day\", count=2)\n",
    "    target_price = df.iloc[0]['close'] + (df.iloc[0]['high'] - df.iloc[0]['low']) * k\n",
    "    return target_price"
   ]
  },
  {
   "cell_type": "code",
   "execution_count": 23,
   "id": "967d8a4d",
   "metadata": {},
   "outputs": [],
   "source": [
    "# 시작 시간 조회\n",
    "def get_start_time(coin_type):\n",
    "    df = pyupbit.get_ohlcv(coin_type, interval=\"day\", count=1)\n",
    "    start_time = df.index[0]\n",
    "    return start_time"
   ]
  },
  {
   "cell_type": "code",
   "execution_count": 31,
   "id": "8fef8aa2",
   "metadata": {},
   "outputs": [],
   "source": [
    "# # 잔고 조회\n",
    "# def get_balance(coin_type):\n",
    "#     upbit = pyupbit.Upbit(access, secret)\n",
    "#     balances = upbit.get_balances()\n",
    "#     for b in balances:\n",
    "#         if b['currency'] == coin_type:\n",
    "#             if b['balance'] is not None:\n",
    "#                 return float(b['balance'])\n",
    "#             else:\n",
    "#                 return 0\n",
    "#     return 0"
   ]
  },
  {
   "cell_type": "code",
   "execution_count": 63,
   "id": "5c1386ca",
   "metadata": {},
   "outputs": [
    {
     "data": {
      "text/plain": [
       "[{'currency': 'KRW',\n",
       "  'balance': '10023.13312868',\n",
       "  'locked': '0.0',\n",
       "  'avg_buy_price': '0',\n",
       "  'avg_buy_price_modified': True,\n",
       "  'unit_currency': 'KRW'},\n",
       " {'currency': 'ETC',\n",
       "  'balance': '0.00010415',\n",
       "  'locked': '0.0',\n",
       "  'avg_buy_price': '48179.7738',\n",
       "  'avg_buy_price_modified': False,\n",
       "  'unit_currency': 'KRW'}]"
      ]
     },
     "execution_count": 63,
     "metadata": {},
     "output_type": "execute_result"
    }
   ],
   "source": [
    "upbit = pyupbit.Upbit(access, secret)\n",
    "upbit.get_balances()"
   ]
  },
  {
   "cell_type": "code",
   "execution_count": 32,
   "id": "012ec477",
   "metadata": {},
   "outputs": [
    {
     "ename": "IndentationError",
     "evalue": "unexpected indent (1871916329.py, line 8)",
     "output_type": "error",
     "traceback": [
      "\u001b[0;36m  Input \u001b[0;32mIn [32]\u001b[0;36m\u001b[0m\n\u001b[0;31m    try:\u001b[0m\n\u001b[0m    ^\u001b[0m\n\u001b[0;31mIndentationError\u001b[0m\u001b[0;31m:\u001b[0m unexpected indent\n"
     ]
    }
   ],
   "source": [
    "# # 로그인\n",
    "# upbit = pyupbit.Upbit(access, secret)\n",
    "# print(\"Start autotrading\")\n",
    "\n",
    "coin_type = \"KRW-BTC\"\n",
    "k_value = 0.451\n",
    "\n",
    "# 자동매매 시작\n",
    "while True:\n",
    "    try:\n",
    "        now = datetime.datetime.now()\n",
    "        start_time = get_start_time(coin_type)\n",
    "        end_time = start_time + datetime.timedelta(days=1)\n",
    "        apr_price = my_btc * pyupbit.get_current_price(coin_type) # appraised price\n",
    "        \n",
    "        # Trading time\n",
    "        if start_time < now < end_time - datetime.timedelta(seconds=10):\n",
    "            target_price = get_target_price(coin_type, k_value)\n",
    "            current_price = pyupbit.get_current_price(coin_type)\n",
    "            \n",
    "            if target_price < current_price:\n",
    "                my_krw = get_balance(\"KRW\")\n",
    "                if my_krw > 5000:\n",
    "                    upbit.buy_market_order(coin_type, my_krw*0.9995) # 전량 매수\n",
    "                    buying_price = current_price\n",
    "            if current_price/buying_price > 1.3:\n",
    "                upbit.sell_market_order(coin_type, btc*0.9995)# 전량 매도 \n",
    "        \n",
    "        # Resting time\n",
    "        else:\n",
    "            btc = updit.get_balance(coin_type)\n",
    "            if apr_price > 5000: # 거래 최소금액 이상이면\n",
    "                upbit.sell_market_order(coin_type, btc*0.9995) # 전량 매도\n",
    "        time.sleep(1)\n",
    "        \n",
    "    except Exception as e:\n",
    "        print(e)\n",
    "        time.sleep(0.1)"
   ]
  },
  {
   "cell_type": "code",
   "execution_count": 60,
   "id": "be22ecbe",
   "metadata": {},
   "outputs": [
    {
     "name": "stdout",
     "output_type": "stream",
     "text": [
      "get_currr:0.32575739797903225\n",
      "get_order:0.3760037600295618\n"
     ]
    }
   ],
   "source": [
    "# 현재가 로딩시간 비교. \n",
    "import time\n",
    "coin_type=\"KRW-BTC\"\n",
    "accm = 0\n",
    "\n",
    "st1 = time.perf_counter()\n",
    "for i in range(10):\n",
    "    pyupbit.get_current_price(coin_type)\n",
    "print(f\"get_currr:{time.perf_counter()-st1}\")\n",
    "\n",
    "st2 = time.perf_counter()\n",
    "for i in range(10):\n",
    "    pyupbit.get_orderbook(ticker=coin_type)[\"orderbook_units\"][0][\"ask_price\"]\n",
    "print(f\"get_order:{time.perf_counter()-st2}\")\n",
    "\n"
   ]
  },
  {
   "cell_type": "code",
   "execution_count": null,
   "id": "e9162fc6",
   "metadata": {},
   "outputs": [],
   "source": []
  },
  {
   "cell_type": "code",
   "execution_count": null,
   "id": "c8d7b573",
   "metadata": {},
   "outputs": [],
   "source": []
  }
 ],
 "metadata": {
  "kernelspec": {
   "display_name": "CoinATS",
   "language": "python",
   "name": "coinats"
  },
  "language_info": {
   "codemirror_mode": {
    "name": "ipython",
    "version": 3
   },
   "file_extension": ".py",
   "mimetype": "text/x-python",
   "name": "python",
   "nbconvert_exporter": "python",
   "pygments_lexer": "ipython3",
   "version": "3.10.4"
  }
 },
 "nbformat": 4,
 "nbformat_minor": 5
}
