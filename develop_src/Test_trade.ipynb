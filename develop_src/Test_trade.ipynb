{
 "cells": [
  {
   "cell_type": "markdown",
   "id": "2a70a84c",
   "metadata": {},
   "source": [
    "# 잔고 조회"
   ]
  },
  {
   "cell_type": "markdown",
   "id": "938c9179",
   "metadata": {},
   "source": [
    "## 1. 입금 전"
   ]
  },
  {
   "cell_type": "code",
   "execution_count": 1,
   "id": "d4ef644d",
   "metadata": {},
   "outputs": [
    {
     "name": "stdout",
     "output_type": "stream",
     "text": [
      "0\n",
      "9362.93586906\n"
     ]
    }
   ],
   "source": [
    "import pyupbit\n",
    "\n",
    "access = \"xTgB4NarGyQ1hYbkFRtMGVJhskdVTsw0mRlzdyES\"\n",
    "secret = \"1xk3iwoQgqyCO7uQ1ZE9Ce0fyAFrFm0w3FOUDNOr\"\n",
    "# Log-in\n",
    "upbit = pyupbit.Upbit(access, secret)\n",
    "\n",
    "print(upbit.get_balance(\"KRW-BTC\"))  # 보유 BTC\n",
    "print(upbit.get_balance(\"KRW\"))      # 원화의 양"
   ]
  },
  {
   "cell_type": "markdown",
   "id": "ec2db0df",
   "metadata": {},
   "source": [
    "## 2. 입금 후"
   ]
  },
  {
   "cell_type": "code",
   "execution_count": 2,
   "id": "ff89ec44",
   "metadata": {
    "scrolled": true
   },
   "outputs": [
    {
     "name": "stdout",
     "output_type": "stream",
     "text": [
      "0\n",
      "9362.93586906\n"
     ]
    }
   ],
   "source": [
    "upbit = pyupbit.Upbit(access, secret)\n",
    "\n",
    "print(upbit.get_balance(\"KRW-BTC\"))\n",
    "print(upbit.get_balance(\"KRW\"))"
   ]
  },
  {
   "cell_type": "markdown",
   "id": "e4e050e7",
   "metadata": {},
   "source": [
    "# 거래 Test"
   ]
  },
  {
   "cell_type": "code",
   "execution_count": 26,
   "id": "3d810521",
   "metadata": {},
   "outputs": [],
   "source": [
    "coin_type = \"KRW-ETH\""
   ]
  },
  {
   "cell_type": "code",
   "execution_count": 27,
   "id": "c8b6b84d",
   "metadata": {},
   "outputs": [
    {
     "name": "stdout",
     "output_type": "stream",
     "text": [
      "한화: 9210.68903315, KRW-ETH: 1888000.0\n"
     ]
    }
   ],
   "source": [
    "krw = upbit.get_balance(\"KRW\") # 내 잔고 조회\n",
    "nowValue = pyupbit.get_current_price(coin_type)\n",
    "print(f\"한화: {krw}, {coin_type}: {nowValue}\")\n"
   ]
  },
  {
   "cell_type": "code",
   "execution_count": 28,
   "id": "84dac5c3",
   "metadata": {},
   "outputs": [
    {
     "name": "stdout",
     "output_type": "stream",
     "text": [
      "한화: 9210.68903315, KRW-ETH: 0.00487855\n"
     ]
    }
   ],
   "source": [
    "# Coin 구매 후 수량 조회\n",
    "upbit.buy_market_order(coin_type, krw*0.9995) # 수수료 0.05% 제외하고 매수\n",
    "print(f\"한화: {krw}, {coin_type}: {upbit.get_balance(coin_type)}\") "
   ]
  },
  {
   "cell_type": "code",
   "execution_count": 29,
   "id": "b634d802",
   "metadata": {},
   "outputs": [
    {
     "name": "stdout",
     "output_type": "stream",
     "text": [
      "한화: 0.00919475\n"
     ]
    }
   ],
   "source": [
    "# 매수 후 잔고\n",
    "krw = upbit.get_balance(\"KRW\") # 내 잔고 조회\n",
    "print(f\"한화: {krw}\")"
   ]
  },
  {
   "cell_type": "code",
   "execution_count": 30,
   "id": "12bfae47",
   "metadata": {},
   "outputs": [
    {
     "name": "stdout",
     "output_type": "stream",
     "text": [
      "한화: 0.00919475, KRW-ETH: 0\n"
     ]
    }
   ],
   "source": [
    "# Coin 매도 후 잔고 조회\n",
    "coin = upbit.get_balance(coin_type)\n",
    "\n",
    "try: \n",
    "    upbit.sell_market_order(coin_type, coin) # 매도\n",
    "    print(f\"한화: {krw}, {coin_type}: {upbit.get_balance(coin_type)}\") \n",
    "except Exception as e:\n",
    "    print(e)\n",
    "    time.sleep(1)    "
   ]
  },
  {
   "cell_type": "code",
   "execution_count": 31,
   "id": "cf799e60",
   "metadata": {},
   "outputs": [
    {
     "name": "stdout",
     "output_type": "stream",
     "text": [
      "한화: 9203.66818819\n"
     ]
    }
   ],
   "source": [
    "# 매도 후 잔고\n",
    "krw = upbit.get_balance(\"KRW\") # 내 잔고 조회\n",
    "print(f\"한화: {krw}\")"
   ]
  },
  {
   "cell_type": "markdown",
   "id": "e91bb391",
   "metadata": {},
   "source": [
    "# 결론"
   ]
  },
  {
   "cell_type": "markdown",
   "id": "89c52ecf",
   "metadata": {},
   "source": [
    "## - 매매가 가능하며, 거의 실시간으로 반영된다.\n",
    "### 35원 벌었다..!"
   ]
  },
  {
   "cell_type": "code",
   "execution_count": null,
   "id": "ca4f0cf3",
   "metadata": {},
   "outputs": [],
   "source": []
  }
 ],
 "metadata": {
  "kernelspec": {
   "display_name": "Python 3",
   "language": "python",
   "name": "python3"
  },
  "language_info": {
   "codemirror_mode": {
    "name": "ipython",
    "version": 3
   },
   "file_extension": ".py",
   "mimetype": "text/x-python",
   "name": "python",
   "nbconvert_exporter": "python",
   "pygments_lexer": "ipython3",
   "version": "3.8.8"
  }
 },
 "nbformat": 4,
 "nbformat_minor": 5
}
