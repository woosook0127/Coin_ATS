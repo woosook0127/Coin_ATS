{
 "cells": [
  {
   "cell_type": "markdown",
   "id": "1c515a54",
   "metadata": {},
   "source": [
    "# Back testing Code"
   ]
  },
  {
   "cell_type": "code",
   "execution_count": 1,
   "id": "1044946b",
   "metadata": {},
   "outputs": [],
   "source": [
    "import pyupbit\n",
    "import numpy as np\n",
    "import time\n",
    "import pandas as pd\n",
    "import warnings\n",
    "warnings.filterwarnings(action='ignore')\n",
    "from tqdm import tqdm"
   ]
  },
  {
   "cell_type": "code",
   "execution_count": 2,
   "id": "5acb34ea",
   "metadata": {},
   "outputs": [],
   "source": [
    "coin_type = \"KRW-BTC\"\n",
    "# OHLCV: Open High Low Close Volume. 당일 시가, 고가, 저가, 종가, 거래량에 대한 data\n",
    "df = pyupbit.get_ohlcv(coin_type, count=230) # 7 days"
   ]
  },
  {
   "cell_type": "code",
   "execution_count": 3,
   "id": "487998af",
   "metadata": {},
   "outputs": [],
   "source": [
    "# ==========================================================\n",
    "# 전략: 변동성 돌파\n",
    "\n",
    "\n",
    "# 변동폭*k 계산. (고가-저가)*k value\n",
    "k = 0.032\n",
    "df['range'] = (df['high'] - df['low']) * k\n",
    "\n",
    "# target(매수가), range column을 한 칸씩 밑으로 내림\n",
    "# 어제 가격을 오늘 반영해서 써야 하기 때문\n",
    "df['target'] = df['open'] + df['range'].shift(1) \n",
    "\n",
    "# =========================================================="
   ]
  },
  {
   "cell_type": "code",
   "execution_count": 4,
   "id": "aadfb282",
   "metadata": {},
   "outputs": [
    {
     "data": {
      "text/plain": [
       "2021-09-30 09:00:00    1.000000\n",
       "2021-10-01 09:00:00    1.087734\n",
       "2021-10-02 09:00:00    0.994436\n",
       "2021-10-03 09:00:00    1.004410\n",
       "2021-10-04 09:00:00    1.024879\n",
       "                         ...   \n",
       "2022-05-13 09:00:00    0.996714\n",
       "2022-05-14 09:00:00    1.015141\n",
       "2022-05-15 09:00:00    1.021486\n",
       "2022-05-16 09:00:00    1.000000\n",
       "2022-05-17 09:00:00    1.002951\n",
       "Name: ror, Length: 230, dtype: float64"
      ]
     },
     "execution_count": 4,
     "metadata": {},
     "output_type": "execute_result"
    }
   ],
   "source": [
    "# np.where(조건문, 참일때 값, 거짓일 때 값)\n",
    "fee = 0.0005\n",
    "\n",
    "# 수익률 = 목표가/종가 \n",
    "df['ror'] = np.where(df['high'] > df['target'], df['close']/df['target'] - fee, 1)\n",
    "df['ror']"
   ]
  },
  {
   "cell_type": "code",
   "execution_count": 5,
   "id": "d1063356",
   "metadata": {},
   "outputs": [
    {
     "data": {
      "text/plain": [
       "2021-09-30 09:00:00    1.000000\n",
       "2021-10-01 09:00:00    1.087734\n",
       "2021-10-02 09:00:00    1.081682\n",
       "2021-10-03 09:00:00    1.086452\n",
       "2021-10-04 09:00:00    1.113481\n",
       "                         ...   \n",
       "2022-05-13 09:00:00    0.707289\n",
       "2022-05-14 09:00:00    0.717998\n",
       "2022-05-15 09:00:00    0.733426\n",
       "2022-05-16 09:00:00    0.733426\n",
       "2022-05-17 09:00:00    0.735590\n",
       "Name: hpr, Length: 230, dtype: float64"
      ]
     },
     "execution_count": 5,
     "metadata": {},
     "output_type": "execute_result"
    }
   ],
   "source": [
    "# 누적 곱 계산(cumprod) => 누적 수익률\n",
    "df['hpr'] = df['ror'].cumprod()\n",
    "df['hpr']"
   ]
  },
  {
   "cell_type": "code",
   "execution_count": 6,
   "id": "64c195a2",
   "metadata": {},
   "outputs": [
    {
     "data": {
      "text/html": [
       "<div>\n",
       "<style scoped>\n",
       "    .dataframe tbody tr th:only-of-type {\n",
       "        vertical-align: middle;\n",
       "    }\n",
       "\n",
       "    .dataframe tbody tr th {\n",
       "        vertical-align: top;\n",
       "    }\n",
       "\n",
       "    .dataframe thead th {\n",
       "        text-align: right;\n",
       "    }\n",
       "</style>\n",
       "<table border=\"1\" class=\"dataframe\">\n",
       "  <thead>\n",
       "    <tr style=\"text-align: right;\">\n",
       "      <th></th>\n",
       "      <th>open</th>\n",
       "      <th>high</th>\n",
       "      <th>low</th>\n",
       "      <th>close</th>\n",
       "      <th>volume</th>\n",
       "      <th>value</th>\n",
       "      <th>range</th>\n",
       "      <th>target</th>\n",
       "      <th>ror</th>\n",
       "      <th>hpr</th>\n",
       "      <th>dd</th>\n",
       "    </tr>\n",
       "  </thead>\n",
       "  <tbody>\n",
       "    <tr>\n",
       "      <th>2021-09-30 09:00:00</th>\n",
       "      <td>50800000.0</td>\n",
       "      <td>53673000.0</td>\n",
       "      <td>50731000.0</td>\n",
       "      <td>53523000.0</td>\n",
       "      <td>6716.780346</td>\n",
       "      <td>3.537608e+11</td>\n",
       "      <td>94144.0</td>\n",
       "      <td>NaN</td>\n",
       "      <td>1.000000</td>\n",
       "      <td>1.000000</td>\n",
       "      <td>0.000000</td>\n",
       "    </tr>\n",
       "    <tr>\n",
       "      <th>2021-10-01 09:00:00</th>\n",
       "      <td>53523000.0</td>\n",
       "      <td>58582000.0</td>\n",
       "      <td>53070000.0</td>\n",
       "      <td>58348000.0</td>\n",
       "      <td>9344.907875</td>\n",
       "      <td>5.266290e+11</td>\n",
       "      <td>176384.0</td>\n",
       "      <td>53617144.0</td>\n",
       "      <td>1.087734</td>\n",
       "      <td>1.087734</td>\n",
       "      <td>0.000000</td>\n",
       "    </tr>\n",
       "    <tr>\n",
       "      <th>2021-10-02 09:00:00</th>\n",
       "      <td>58348000.0</td>\n",
       "      <td>58999000.0</td>\n",
       "      <td>57660000.0</td>\n",
       "      <td>58228000.0</td>\n",
       "      <td>4852.968580</td>\n",
       "      <td>2.830123e+11</td>\n",
       "      <td>42848.0</td>\n",
       "      <td>58524384.0</td>\n",
       "      <td>0.994436</td>\n",
       "      <td>1.081682</td>\n",
       "      <td>0.556428</td>\n",
       "    </tr>\n",
       "    <tr>\n",
       "      <th>2021-10-03 09:00:00</th>\n",
       "      <td>58238000.0</td>\n",
       "      <td>59390000.0</td>\n",
       "      <td>57250000.0</td>\n",
       "      <td>58567000.0</td>\n",
       "      <td>4489.395790</td>\n",
       "      <td>2.620021e+11</td>\n",
       "      <td>68480.0</td>\n",
       "      <td>58280848.0</td>\n",
       "      <td>1.004410</td>\n",
       "      <td>1.086452</td>\n",
       "      <td>0.117894</td>\n",
       "    </tr>\n",
       "    <tr>\n",
       "      <th>2021-10-04 09:00:00</th>\n",
       "      <td>58466000.0</td>\n",
       "      <td>60331000.0</td>\n",
       "      <td>57346000.0</td>\n",
       "      <td>60020000.0</td>\n",
       "      <td>6699.988769</td>\n",
       "      <td>3.923047e+11</td>\n",
       "      <td>95520.0</td>\n",
       "      <td>58534480.0</td>\n",
       "      <td>1.024879</td>\n",
       "      <td>1.113481</td>\n",
       "      <td>0.000000</td>\n",
       "    </tr>\n",
       "    <tr>\n",
       "      <th>...</th>\n",
       "      <td>...</td>\n",
       "      <td>...</td>\n",
       "      <td>...</td>\n",
       "      <td>...</td>\n",
       "      <td>...</td>\n",
       "      <td>...</td>\n",
       "      <td>...</td>\n",
       "      <td>...</td>\n",
       "      <td>...</td>\n",
       "      <td>...</td>\n",
       "      <td>...</td>\n",
       "    </tr>\n",
       "    <tr>\n",
       "      <th>2022-05-13 09:00:00</th>\n",
       "      <td>39246000.0</td>\n",
       "      <td>41324000.0</td>\n",
       "      <td>38777000.0</td>\n",
       "      <td>39270000.0</td>\n",
       "      <td>12398.918801</td>\n",
       "      <td>4.983739e+11</td>\n",
       "      <td>81504.0</td>\n",
       "      <td>39379696.0</td>\n",
       "      <td>0.996714</td>\n",
       "      <td>0.707289</td>\n",
       "      <td>50.666327</td>\n",
       "    </tr>\n",
       "    <tr>\n",
       "      <th>2022-05-14 09:00:00</th>\n",
       "      <td>39270000.0</td>\n",
       "      <td>40243000.0</td>\n",
       "      <td>38400000.0</td>\n",
       "      <td>39967000.0</td>\n",
       "      <td>5512.195620</td>\n",
       "      <td>2.170088e+11</td>\n",
       "      <td>58976.0</td>\n",
       "      <td>39351504.0</td>\n",
       "      <td>1.015141</td>\n",
       "      <td>0.717998</td>\n",
       "      <td>49.919367</td>\n",
       "    </tr>\n",
       "    <tr>\n",
       "      <th>2022-05-15 09:00:00</th>\n",
       "      <td>39967000.0</td>\n",
       "      <td>41000000.0</td>\n",
       "      <td>39270000.0</td>\n",
       "      <td>40906000.0</td>\n",
       "      <td>4277.655034</td>\n",
       "      <td>1.706726e+11</td>\n",
       "      <td>55360.0</td>\n",
       "      <td>40025976.0</td>\n",
       "      <td>1.021486</td>\n",
       "      <td>0.733426</td>\n",
       "      <td>48.843318</td>\n",
       "    </tr>\n",
       "    <tr>\n",
       "      <th>2022-05-16 09:00:00</th>\n",
       "      <td>40902000.0</td>\n",
       "      <td>40940000.0</td>\n",
       "      <td>38620000.0</td>\n",
       "      <td>39256000.0</td>\n",
       "      <td>5678.833853</td>\n",
       "      <td>2.243704e+11</td>\n",
       "      <td>74240.0</td>\n",
       "      <td>40957360.0</td>\n",
       "      <td>1.000000</td>\n",
       "      <td>0.733426</td>\n",
       "      <td>48.843318</td>\n",
       "    </tr>\n",
       "    <tr>\n",
       "      <th>2022-05-17 09:00:00</th>\n",
       "      <td>39260000.0</td>\n",
       "      <td>39900000.0</td>\n",
       "      <td>39088000.0</td>\n",
       "      <td>39470000.0</td>\n",
       "      <td>2861.872437</td>\n",
       "      <td>1.129313e+11</td>\n",
       "      <td>25984.0</td>\n",
       "      <td>39334240.0</td>\n",
       "      <td>1.002951</td>\n",
       "      <td>0.735590</td>\n",
       "      <td>48.692332</td>\n",
       "    </tr>\n",
       "  </tbody>\n",
       "</table>\n",
       "<p>230 rows × 11 columns</p>\n",
       "</div>"
      ],
      "text/plain": [
       "                           open        high         low       close  \\\n",
       "2021-09-30 09:00:00  50800000.0  53673000.0  50731000.0  53523000.0   \n",
       "2021-10-01 09:00:00  53523000.0  58582000.0  53070000.0  58348000.0   \n",
       "2021-10-02 09:00:00  58348000.0  58999000.0  57660000.0  58228000.0   \n",
       "2021-10-03 09:00:00  58238000.0  59390000.0  57250000.0  58567000.0   \n",
       "2021-10-04 09:00:00  58466000.0  60331000.0  57346000.0  60020000.0   \n",
       "...                         ...         ...         ...         ...   \n",
       "2022-05-13 09:00:00  39246000.0  41324000.0  38777000.0  39270000.0   \n",
       "2022-05-14 09:00:00  39270000.0  40243000.0  38400000.0  39967000.0   \n",
       "2022-05-15 09:00:00  39967000.0  41000000.0  39270000.0  40906000.0   \n",
       "2022-05-16 09:00:00  40902000.0  40940000.0  38620000.0  39256000.0   \n",
       "2022-05-17 09:00:00  39260000.0  39900000.0  39088000.0  39470000.0   \n",
       "\n",
       "                           volume         value     range      target  \\\n",
       "2021-09-30 09:00:00   6716.780346  3.537608e+11   94144.0         NaN   \n",
       "2021-10-01 09:00:00   9344.907875  5.266290e+11  176384.0  53617144.0   \n",
       "2021-10-02 09:00:00   4852.968580  2.830123e+11   42848.0  58524384.0   \n",
       "2021-10-03 09:00:00   4489.395790  2.620021e+11   68480.0  58280848.0   \n",
       "2021-10-04 09:00:00   6699.988769  3.923047e+11   95520.0  58534480.0   \n",
       "...                           ...           ...       ...         ...   \n",
       "2022-05-13 09:00:00  12398.918801  4.983739e+11   81504.0  39379696.0   \n",
       "2022-05-14 09:00:00   5512.195620  2.170088e+11   58976.0  39351504.0   \n",
       "2022-05-15 09:00:00   4277.655034  1.706726e+11   55360.0  40025976.0   \n",
       "2022-05-16 09:00:00   5678.833853  2.243704e+11   74240.0  40957360.0   \n",
       "2022-05-17 09:00:00   2861.872437  1.129313e+11   25984.0  39334240.0   \n",
       "\n",
       "                          ror       hpr         dd  \n",
       "2021-09-30 09:00:00  1.000000  1.000000   0.000000  \n",
       "2021-10-01 09:00:00  1.087734  1.087734   0.000000  \n",
       "2021-10-02 09:00:00  0.994436  1.081682   0.556428  \n",
       "2021-10-03 09:00:00  1.004410  1.086452   0.117894  \n",
       "2021-10-04 09:00:00  1.024879  1.113481   0.000000  \n",
       "...                       ...       ...        ...  \n",
       "2022-05-13 09:00:00  0.996714  0.707289  50.666327  \n",
       "2022-05-14 09:00:00  1.015141  0.717998  49.919367  \n",
       "2022-05-15 09:00:00  1.021486  0.733426  48.843318  \n",
       "2022-05-16 09:00:00  1.000000  0.733426  48.843318  \n",
       "2022-05-17 09:00:00  1.002951  0.735590  48.692332  \n",
       "\n",
       "[230 rows x 11 columns]"
      ]
     },
     "execution_count": 6,
     "metadata": {},
     "output_type": "execute_result"
    }
   ],
   "source": [
    "# Draw Down 계산. (누적 최대 값과 현재 hpr 차이/ 누적 최대값*100)\n",
    "df['dd'] = (df['hpr'].cummax() - df['hpr']) / df['hpr'].cummax() *100\n",
    "df"
   ]
  },
  {
   "cell_type": "code",
   "execution_count": 7,
   "id": "b98ee233",
   "metadata": {},
   "outputs": [
    {
     "name": "stdout",
     "output_type": "stream",
     "text": [
      "MDD(%): 50.666326576059674\n"
     ]
    }
   ],
   "source": [
    "print(f\"MDD(%): {df['dd'].max()}\") "
   ]
  },
  {
   "cell_type": "code",
   "execution_count": 8,
   "id": "85002b51",
   "metadata": {},
   "outputs": [
    {
     "data": {
      "text/plain": [
       "0.7355902330945883"
      ]
     },
     "execution_count": 8,
     "metadata": {},
     "output_type": "execute_result"
    }
   ],
   "source": [
    "df['hpr'][-1]"
   ]
  },
  {
   "cell_type": "markdown",
   "id": "13f9e979",
   "metadata": {},
   "source": [
    "# Back testing function"
   ]
  },
  {
   "cell_type": "code",
   "execution_count": 9,
   "id": "508ca160",
   "metadata": {},
   "outputs": [],
   "source": [
    "def back_testing(coin_type, k_value, term, prt:bool=False):\n",
    "    time.sleep(0.1) # Redundant\n",
    "    try:\n",
    "        df = pyupbit.get_ohlcv(coin_type, count=term) # Redundant\n",
    "        df['range'] = (df['high'] - df['low']) * k_value\n",
    "        df['target'] = df['open'] + df['range'].shift(1) \n",
    "\n",
    "        fee = 0.0032\n",
    "        df['ror'] = np.where(df['high'] > df['target'], df['close']/df['target'] - fee, 1)\n",
    "\n",
    "        df['hpr'] = df['ror'].cumprod()\n",
    "        df['dd'] = (df['hpr'].cummax() - df['hpr']) / df['hpr'].cummax() * 100\n",
    "\n",
    "        pct = df['hpr'][-1]\n",
    "        profit = round(pct-1, 5) * 100\n",
    "\n",
    "        if (prt):\n",
    "            print_str = f\"{coin_type} {term}일간 수익률: {profit}%, MDD: {df['dd'].max()}\"\n",
    "            print(print_str)\n",
    "\n",
    "    except Exception as e:\n",
    "        print(e)\n",
    "        time.sleep(0.1)\n",
    "        return 7210, 7210\n",
    "    \n",
    "    return profit, df['dd'].max()"
   ]
  },
  {
   "cell_type": "code",
   "execution_count": 10,
   "id": "bc956bfa",
   "metadata": {},
   "outputs": [
    {
     "name": "stdout",
     "output_type": "stream",
     "text": [
      "KRW-ETH 60일간 수익률: -38.111%, MDD: 46.57260899228698\n"
     ]
    },
    {
     "data": {
      "text/plain": [
       "(-38.111, 46.57260899228698)"
      ]
     },
     "execution_count": 10,
     "metadata": {},
     "output_type": "execute_result"
    }
   ],
   "source": [
    "back_testing(\"KRW-ETH\", 0.0032, 60, True)"
   ]
  },
  {
   "cell_type": "code",
   "execution_count": 11,
   "id": "bbf95fbe",
   "metadata": {},
   "outputs": [
    {
     "name": "stdout",
     "output_type": "stream",
     "text": [
      "KRW-ETH 60일간 수익률: -23.099%, MDD: 23.098911965970203\n"
     ]
    },
    {
     "data": {
      "text/plain": [
       "(-23.099, 23.098911965970203)"
      ]
     },
     "execution_count": 11,
     "metadata": {},
     "output_type": "execute_result"
    }
   ],
   "source": [
    "back_testing(\"KRW-ETH\", 0.451, 60, True)"
   ]
  },
  {
   "cell_type": "code",
   "execution_count": 12,
   "id": "49d116d8",
   "metadata": {},
   "outputs": [
    {
     "name": "stdout",
     "output_type": "stream",
     "text": [
      "KRW-BTC 60일간 수익률: -36.284%, MDD: 41.103290373056495\n"
     ]
    },
    {
     "data": {
      "text/plain": [
       "(-36.284, 41.103290373056495)"
      ]
     },
     "execution_count": 12,
     "metadata": {},
     "output_type": "execute_result"
    }
   ],
   "source": [
    "back_testing(\"KRW-BTC\", 0.0032, 60, True)"
   ]
  },
  {
   "cell_type": "code",
   "execution_count": 13,
   "id": "85067bc9",
   "metadata": {},
   "outputs": [
    {
     "name": "stdout",
     "output_type": "stream",
     "text": [
      "KRW-BTC 60일간 수익률: -21.884%, MDD: 25.66777153205789\n"
     ]
    },
    {
     "data": {
      "text/plain": [
       "(-21.884, 25.66777153205789)"
      ]
     },
     "execution_count": 13,
     "metadata": {},
     "output_type": "execute_result"
    }
   ],
   "source": [
    "back_testing(\"KRW-BTC\", 0.451, 60, True)"
   ]
  },
  {
   "cell_type": "markdown",
   "id": "df17a85d",
   "metadata": {},
   "source": [
    "# Finding Hyper parameter"
   ]
  },
  {
   "cell_type": "code",
   "execution_count": 15,
   "id": "6f126a2f",
   "metadata": {},
   "outputs": [],
   "source": [
    "def find_hyper_k(coin_type, term):\n",
    "    # k value의 최적값을 찾기 위해 backtesting하며 수익률을 확인한다.\n",
    "    df = pd.DataFrame([[0,0,0]], columns=['수익률', 'MDD%', 'k-value'])\n",
    "\n",
    "    for i in tqdm(np.arange(0, 0.5, 0.001), desc='Progress', mininterval=0.1):\n",
    "        profit, mdd = back_testing(coin_type, i, term, False)\n",
    "\n",
    "        max_profit = df['수익률'].max()\n",
    "        if profit >= max_profit:\n",
    "            df = df.append(pd.Series([profit, mdd, i], index=df.columns), ignore_index=True)\n",
    "\n",
    "    filter = df['수익률'] == df['수익률'].max()\n",
    "    hyper_k = df[filter].iloc[0,2]\n",
    "    \n",
    "    return hyper_k"
   ]
  },
  {
   "cell_type": "code",
   "execution_count": null,
   "id": "e0adc9cd",
   "metadata": {},
   "outputs": [
    {
     "name": "stderr",
     "output_type": "stream",
     "text": [
      "Progress:  72%|██████████████████████████▍          | 358/500 [00:54<00:20,  6.87it/s]"
     ]
    }
   ],
   "source": [
    "find_hyper_k(\"KRW-NEAR\", 11)"
   ]
  },
  {
   "cell_type": "code",
   "execution_count": null,
   "id": "531eb9e1",
   "metadata": {},
   "outputs": [],
   "source": [
    "df"
   ]
  },
  {
   "cell_type": "code",
   "execution_count": 20,
   "id": "0126faab",
   "metadata": {},
   "outputs": [
    {
     "name": "stderr",
     "output_type": "stream",
     "text": [
      "Progress: 100%|██████████| 500/500 [01:32<00:00,  5.38it/s]\n"
     ]
    }
   ],
   "source": [
    "# k value의 최적값을 찾기 위해 backtesting하며 수익률을 확인한다.\n",
    "df = pd.DataFrame([[0,0,0]], columns=['수익률', 'MDD%', 'k-value'])\n",
    "\n",
    "for i in tqdm(np.arange(0, 0.5, 0.001), desc='Progress', mininterval=0.1):\n",
    "    profit, mdd = back_testing(\"KRW-KNC\", i, 14, False)\n",
    "\n",
    "    max_profit = df['수익률'].max()\n",
    "    if profit >= max_profit:\n",
    "        df = df.append(pd.Series([profit, mdd, i], index=df.columns), ignore_index=True)\n",
    "filter = df['수익률'] == df['수익률'].max()\n",
    "hyper_k = df[filter].iloc[0,2]"
   ]
  },
  {
   "cell_type": "code",
   "execution_count": 21,
   "id": "16a84601",
   "metadata": {},
   "outputs": [
    {
     "data": {
      "text/html": [
       "<div>\n",
       "<style scoped>\n",
       "    .dataframe tbody tr th:only-of-type {\n",
       "        vertical-align: middle;\n",
       "    }\n",
       "\n",
       "    .dataframe tbody tr th {\n",
       "        vertical-align: top;\n",
       "    }\n",
       "\n",
       "    .dataframe thead th {\n",
       "        text-align: right;\n",
       "    }\n",
       "</style>\n",
       "<table border=\"1\" class=\"dataframe\">\n",
       "  <thead>\n",
       "    <tr style=\"text-align: right;\">\n",
       "      <th></th>\n",
       "      <th>수익률</th>\n",
       "      <th>MDD%</th>\n",
       "      <th>k-value</th>\n",
       "    </tr>\n",
       "  </thead>\n",
       "  <tbody>\n",
       "    <tr>\n",
       "      <th>1</th>\n",
       "      <td>15.04</td>\n",
       "      <td>9.019347</td>\n",
       "      <td>0.0</td>\n",
       "    </tr>\n",
       "  </tbody>\n",
       "</table>\n",
       "</div>"
      ],
      "text/plain": [
       "     수익률      MDD%  k-value\n",
       "1  15.04  9.019347      0.0"
      ]
     },
     "execution_count": 21,
     "metadata": {},
     "output_type": "execute_result"
    }
   ],
   "source": [
    "filter = df['수익률'] == df['수익률'].max()\n",
    "df[filter]"
   ]
  },
  {
   "cell_type": "code",
   "execution_count": null,
   "id": "b363320f",
   "metadata": {},
   "outputs": [],
   "source": []
  }
 ],
 "metadata": {
  "kernelspec": {
   "display_name": "CoinATS",
   "language": "python",
   "name": "coinats"
  },
  "language_info": {
   "codemirror_mode": {
    "name": "ipython",
    "version": 3
   },
   "file_extension": ".py",
   "mimetype": "text/x-python",
   "name": "python",
   "nbconvert_exporter": "python",
   "pygments_lexer": "ipython3",
   "version": "3.8.13"
  }
 },
 "nbformat": 4,
 "nbformat_minor": 5
}
